{
 "cells": [
  {
   "cell_type": "code",
   "execution_count": 1,
   "id": "50f937de",
   "metadata": {},
   "outputs": [],
   "source": [
    "import seaborn as sns\n",
    "import pandas as pd\n",
    "import matplotlib.pyplot as plt\n",
    "import numpy as np"
   ]
  },
  {
   "cell_type": "code",
   "execution_count": 2,
   "id": "c93ea3a0",
   "metadata": {},
   "outputs": [],
   "source": [
    "df = pd.DataFrame()"
   ]
  },
  {
   "cell_type": "code",
   "execution_count": 6,
   "id": "2b1f9a83",
   "metadata": {},
   "outputs": [],
   "source": [
    "x = pd.Series([12,25,68,42,113])\n",
    "y = pd.Series([11,29,58,121,100])"
   ]
  },
  {
   "cell_type": "code",
   "execution_count": 7,
   "id": "82cf4928",
   "metadata": {},
   "outputs": [],
   "source": [
    "df['x'] = x\n",
    "df['y'] = y"
   ]
  },
  {
   "cell_type": "code",
   "execution_count": 8,
   "id": "30e2102e",
   "metadata": {},
   "outputs": [
    {
     "data": {
      "text/html": [
       "<div>\n",
       "<style scoped>\n",
       "    .dataframe tbody tr th:only-of-type {\n",
       "        vertical-align: middle;\n",
       "    }\n",
       "\n",
       "    .dataframe tbody tr th {\n",
       "        vertical-align: top;\n",
       "    }\n",
       "\n",
       "    .dataframe thead th {\n",
       "        text-align: right;\n",
       "    }\n",
       "</style>\n",
       "<table border=\"1\" class=\"dataframe\">\n",
       "  <thead>\n",
       "    <tr style=\"text-align: right;\">\n",
       "      <th></th>\n",
       "      <th>x</th>\n",
       "      <th>y</th>\n",
       "    </tr>\n",
       "  </thead>\n",
       "  <tbody>\n",
       "    <tr>\n",
       "      <th>0</th>\n",
       "      <td>12</td>\n",
       "      <td>11</td>\n",
       "    </tr>\n",
       "    <tr>\n",
       "      <th>1</th>\n",
       "      <td>25</td>\n",
       "      <td>29</td>\n",
       "    </tr>\n",
       "    <tr>\n",
       "      <th>2</th>\n",
       "      <td>68</td>\n",
       "      <td>58</td>\n",
       "    </tr>\n",
       "    <tr>\n",
       "      <th>3</th>\n",
       "      <td>42</td>\n",
       "      <td>121</td>\n",
       "    </tr>\n",
       "    <tr>\n",
       "      <th>4</th>\n",
       "      <td>113</td>\n",
       "      <td>100</td>\n",
       "    </tr>\n",
       "  </tbody>\n",
       "</table>\n",
       "</div>"
      ],
      "text/plain": [
       "     x    y\n",
       "0   12   11\n",
       "1   25   29\n",
       "2   68   58\n",
       "3   42  121\n",
       "4  113  100"
      ]
     },
     "execution_count": 8,
     "metadata": {},
     "output_type": "execute_result"
    }
   ],
   "source": [
    "df"
   ]
  },
  {
   "cell_type": "markdown",
   "id": "8b0f7367",
   "metadata": {},
   "source": [
    "# Covariance"
   ]
  },
  {
   "cell_type": "code",
   "execution_count": 9,
   "id": "5585689f",
   "metadata": {},
   "outputs": [
    {
     "data": {
      "text/plain": [
       "Text(0.5, 1.0, 'Covariance - 4595.0')"
      ]
     },
     "execution_count": 9,
     "metadata": {},
     "output_type": "execute_result"
    },
    {
     "data": {
      "image/png": "[encoded data removed]",
      "text/plain": [
       "<Figure size 720x216 with 2 Axes>"
      ]
     },
     "metadata": {
      "needs_background": "light"
     },
     "output_type": "display_data"
    }
   ],
   "source": [
    "fig, (ax1, ax2) = plt.subplots(1, 2, figsize=(10, 3))\n",
    "\n",
    "# Plot scatterplots on each axes\n",
    "ax1.scatter(df['x'], df['y'])\n",
    "ax2.scatter(df['x']*2, df['y']*2)\n",
    "\n",
    "ax1.set_title(\"Covariance - \" + str(np.cov(df['x'],df['y'])[0,1]))\n",
    "ax2.set_title(\"Covariance - \" + str(np.cov(df['x']*2,df['y']*2)[0,1]))\n"
   ]
  },
  {
   "cell_type": "code",
   "execution_count": 10,
   "id": "713d3348",
   "metadata": {},
   "outputs": [
    {
     "name": "stdout",
     "output_type": "stream",
     "text": [
      "1148.75\n",
      "4595.0\n"
     ]
    }
   ],
   "source": [
    "print(np.cov(df['x'],df['y'])[0,1])\n",
    "print(np.cov(df['x']*2,df['y']*2)[0,1])"
   ]
  },
  {
   "cell_type": "markdown",
   "id": "d75cc18f",
   "metadata": {},
   "source": [
    "# Covariance changes as scale changes"
   ]
  },
  {
   "cell_type": "code",
   "execution_count": 11,
   "id": "ae42f727",
   "metadata": {},
   "outputs": [
    {
     "data": {
      "text/plain": [
       "Text(0.5, 1.0, 'Covariance - 4595.0')"
      ]
     },
     "execution_count": 11,
     "metadata": {},
     "output_type": "execute_result"
    },
    {
     "data": {
      "image/png": "[encoded data removed]",
      "text/plain": [
       "<Figure size 1080x216 with 3 Axes>"
      ]
     },
     "metadata": {
      "needs_background": "light"
     },
     "output_type": "display_data"
    }
   ],
   "source": [
    "fig, ax = plt.subplots(1, 3, figsize=(15, 3))\n",
    "\n",
    "# Plot scatterplots on each axes\n",
    "ax[0].scatter(df['x'], df['x'])\n",
    "ax[1].scatter(df['x'], df['y'])\n",
    "ax[2].scatter(df['x']*2, df['y']*2)\n",
    "\n",
    "ax[0].set_title(\"Covariance - \" + str(np.cov(df['x'],df['x'])[0,1]))\n",
    "ax[1].set_title(\"Covariance - \" + str(np.cov(df['x'],df['y'])[0,1]))\n",
    "ax[2].set_title(\"Covariance - \" + str(np.cov(df['x']*2,df['y']*2)[0,1]))\n"
   ]
  },
  {
   "cell_type": "markdown",
   "id": "34f13bb3",
   "metadata": {},
   "source": [
    "# Correlation"
   ]
  },
  {
   "cell_type": "code",
   "execution_count": 12,
   "id": "85c677ed",
   "metadata": {},
   "outputs": [
    {
     "data": {
      "text/plain": [
       "Text(0.5, 1.0, 'Correlation - 0.6185423626205997')"
      ]
     },
     "execution_count": 12,
     "metadata": {},
     "output_type": "execute_result"
    },
    {
     "data": {
      "image/png": "[encoded data removed]",
      "text/plain": [
       "<Figure size 720x216 with 2 Axes>"
      ]
     },
     "metadata": {
      "needs_background": "light"
     },
     "output_type": "display_data"
    }
   ],
   "source": [
    "fig, (ax1, ax2) = plt.subplots(1, 2, figsize=(10, 3))\n",
    "\n",
    "# Plot scatterplots on each axes\n",
    "ax1.scatter(df['x'], df['x'])\n",
    "ax2.scatter(df['x'], df['y'])\n",
    "\n",
    "ax1.set_title(\"Correlation - \" + str(df['x'].corr(df['x'])))\n",
    "ax2.set_title(\"Correlation - \" + str((df['x']).corr(df['y'])))\n"
   ]
  },
  {
   "cell_type": "markdown",
   "id": "bb47f0b8",
   "metadata": {},
   "source": [
    "# Correlation not changes as scale changes"
   ]
  },
  {
   "cell_type": "code",
   "execution_count": 13,
   "id": "2f28d487",
   "metadata": {},
   "outputs": [
    {
     "data": {
      "text/plain": [
       "Text(0.5, 1.0, 'Correlation - 0.6185423626205997')"
      ]
     },
     "execution_count": 13,
     "metadata": {},
     "output_type": "execute_result"
    },
    {
     "data": {
      "image/png": "[encoded data removed]",
      "text/plain": [
       "<Figure size 720x216 with 2 Axes>"
      ]
     },
     "metadata": {
      "needs_background": "light"
     },
     "output_type": "display_data"
    }
   ],
   "source": [
    "fig, (ax1, ax2) = plt.subplots(1, 2, figsize=(10, 3))\n",
    "\n",
    "# Plot scatterplots on each axes\n",
    "ax1.scatter(df['x'], df['y'])\n",
    "ax2.scatter(df['x']*2, df['y'])\n",
    "\n",
    "ax1.set_title(\"Correlation - \" + str(df['x'].corr(df['y'])))\n",
    "ax2.set_title(\"Correlation - \" + str((df['x']*2).corr(df['y']*2)))\n"
   ]
  },
  {
   "cell_type": "code",
   "execution_count": null,
   "id": "bdb758fd",
   "metadata": {},
   "outputs": [],
   "source": []
  }
 ],
 "metadata": {
  "kernelspec": {
   "display_name": "Python 3 (ipykernel)",
   "language": "python",
   "name": "python3"
  },
  "language_info": {
   "codemirror_mode": {
    "name": "ipython",
    "version": 3
   },
   "file_extension": ".py",
   "mimetype": "text/x-python",
   "name": "python",
   "nbconvert_exporter": "python",
   "pygments_lexer": "ipython3",
   "version": "3.9.7"
  }
 },
 "nbformat": 4,
 "nbformat_minor": 5
}
